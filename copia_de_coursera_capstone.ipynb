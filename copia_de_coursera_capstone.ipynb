{
  "cells": [
    {
      "cell_type": "markdown",
      "metadata": {
        "id": "view-in-github",
        "colab_type": "text"
      },
      "source": [
        "<a href=\"https://colab.research.google.com/github/R3gm/Coursera_Capstone-/blob/main/copia_de_coursera_capstone.ipynb\" target=\"_parent\"><img src=\"https://colab.research.google.com/assets/colab-badge.svg\" alt=\"Open In Colab\"/></a>"
      ]
    },
    {
      "cell_type": "markdown",
      "id": "973da7a1",
      "metadata": {
        "id": "973da7a1"
      },
      "source": [
        "Este notebook se usará principalmente para el proyecto final. "
      ]
    },
    {
      "cell_type": "code",
      "execution_count": null,
      "id": "0cd5b2ee",
      "metadata": {
        "id": "0cd5b2ee"
      },
      "outputs": [],
      "source": [
        "import pandas as pd \n",
        "import numpy as np "
      ]
    },
    {
      "cell_type": "code",
      "execution_count": null,
      "id": "556219fe",
      "metadata": {
        "id": "556219fe",
        "outputId": "d455673b-432d-4939-8281-bb1437ab73fe",
        "colab": {
          "base_uri": "https://localhost:8080/"
        }
      },
      "outputs": [
        {
          "output_type": "stream",
          "name": "stdout",
          "text": [
            "e¡Hola, Proyecto Final del Curso!\n"
          ]
        }
      ],
      "source": [
        "print(\"efgh¡Hola, Proyecto Final del Curso!\" )"
      ]
    }
  ],
  "metadata": {
    "kernelspec": {
      "display_name": "Python 3 (ipykernel)",
      "language": "python",
      "name": "python3"
    },
    "language_info": {
      "codemirror_mode": {
        "name": "ipython",
        "version": 3
      },
      "file_extension": ".py",
      "mimetype": "text/x-python",
      "name": "python",
      "nbconvert_exporter": "python",
      "pygments_lexer": "ipython3",
      "version": "3.9.7"
    },
    "colab": {
      "provenance": [],
      "collapsed_sections": [],
      "toc_visible": true,
      "include_colab_link": true
    }
  },
  "nbformat": 4,
  "nbformat_minor": 5
}